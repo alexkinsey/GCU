{
 "cells": [
  {
   "cell_type": "markdown",
   "id": "7934c49d",
   "metadata": {},
   "source": [
    "# Cloud Recommendation for LBG - Scottish Widows\n",
    "\n",
    "## Summary\n",
    "Scottish Widows currently uses an in house Triage Tool to provide information of pensions to customers. Customers contact Scottish Widows, based on their request, colleagues use the Triage Tool (an Excel Spreadsheet) to query a database of pension data, data is processed, and a pension statement is generated.\n",
    "\n",
    "Current requirements:\n",
    "- On site servers to host data.\n",
    "- IT team to maintain and update server.\n",
    "- The Triage Tool is downloaded to a host computer for colleagues to use.\n",
    "- Users of the Triage Tool must ensure that they use the latest version of the tool or issues can occur.  \n",
    "- Development team to maintain and updating the Triage Tool.\n",
    " \n",
    "Cloud computing could help in the following ways:\n",
    "- Remove the cost of onsite server maintenance and upgrades.\n",
    "- Provide a frequent and secure backup of data.\n",
    "- The Triage Tool will be migrated and hosted on the cloud. This could provide an opportunity to upgrade the application to a web platform with modern design principles. \n",
    "- Only one version of the Triage Tool will be available use so users will always up to date.\n",
    "\n",
    "_Note, the development team would continue to maintain the new web based Triage Tool._\n",
    "\n",
    "## Cloud Recommendations\n",
    "#### Cloud Service Model  \n",
    "Platform as a service would best fit as Scottish Widows needs full control of the application and data. This would provide a great opportunity to upgrade the existing tool when porting to Google Cloud Platform (GCP). This would entail converting the existing tool, which has been created in Excel, to a web based application created in React. Scottish Widows can also add new functionality and adapt the code to meet changes in pension guidelines. \n",
    "\n",
    "#### Cloud Deployment Model Type \n",
    "A private deployment hosted externally would ensure that sensitive customer information will remain secure and comply with GPDR guidelines. The application is also only used by staff within Scottish Widows and thus has no need to be publicly available.\n",
    "\n",
    "#### Cloud Patterns\n",
    "- **Availability:** Both the application and data would only need to be available between 8am and 6pm, Monday to Friday. This gives the opportunity to reduce costs when services are not needed and perform upgrades when the application is not in use. Queue based load levelling is needed as all requests from the application must be received and processed. It is understood at peak times request may take longer to load. \n",
    "- **Data Management:** Cache Aside to help reduce latency at peak times. Materialised view may be considered if latency proves to be an issue. Valet key is essential to maintain security due to the sensitivity of the data.\n",
    "- **Design & Implementation:** The application will only be accessed via desktop using Microsoft Edge. A traditional backend service will suffice.\n",
    "- **Management and monitoring:** Latency, throughput, and bad requests must regularly be monitored so appropriate action can be taken.\n",
    "- **Performance & Scalability:** Scalability is a key requirement as the database and users will continue to increase over time. \n",
    "- **Resilience:** Queue based load levelling will stop requests from being dropped. It is also important  requests retry multiple times if an issue occurs such as an error 500.\n",
    "- **Security:** Valet key as mentioned above.\n",
    "\n",
    "#### Cloud Services\n",
    "GCP Cloud SQL database service would best fit as it is fully managed and allows Scottish Widows to focus on the application and service. GCP App Engine will provide an easy to use method to host the application.\n",
    "\n",
    "#### Cloud Costing\n",
    "\n",
    "## Data Analysis "
   ]
  },
  {
   "cell_type": "markdown",
   "id": "4a7a5a9a",
   "metadata": {},
   "source": [
    "Triage Tool - ICP internal cloud\n",
    "\n",
    "About -\n",
    "Tool used but customer service team to aid conversion with customers. \n",
    "Tool provides teams a workflow to structure calls around and help inform decision making. \n",
    "Built in Visual Basic and Excel, physically hosted by Lloyds in ICP.\n",
    "\n",
    "Issues -\n",
    "This tool is only used during office hours by employees, but servers stay active 24/7.\n",
    "Expensive to maintain physical servers within company.\n",
    "Tool is old, not easy to update and maintain.\n",
    "\n",
    "Solution Recommendation -\n",
    "Move to GCP.\n",
    "Cloud does not need to be active after 7pm when employees are not working - saving money.\n",
    "Physical maintenance of servers not companies' responsibility.\n",
    "Opportunity to build web-based tool with modern design principals.\n",
    "Streamline the process of implementing new features with CL/CI.\n",
    "Scalable with expanding team and customer base.\n",
    "\n",
    "Data analysis -\n",
    "Running costs of physical server\n",
    "Maintenance of physical server\n",
    "Maintenance of tool\n",
    "Speed accessing data in old tool vs new tool"
   ]
  },
  {
   "cell_type": "code",
   "execution_count": null,
   "id": "396fd883",
   "metadata": {},
   "outputs": [],
   "source": []
  }
 ],
 "metadata": {
  "kernelspec": {
   "display_name": "Python 3 (ipykernel)",
   "language": "python",
   "name": "python3"
  },
  "language_info": {
   "codemirror_mode": {
    "name": "ipython",
    "version": 3
   },
   "file_extension": ".py",
   "mimetype": "text/x-python",
   "name": "python",
   "nbconvert_exporter": "python",
   "pygments_lexer": "ipython3",
   "version": "3.9.7"
  }
 },
 "nbformat": 4,
 "nbformat_minor": 5
}
