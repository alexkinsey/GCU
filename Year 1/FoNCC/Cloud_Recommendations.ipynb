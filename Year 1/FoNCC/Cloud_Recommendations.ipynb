{
 "cells": [
  {
   "cell_type": "markdown",
   "id": "7934c49d",
   "metadata": {},
   "source": [
    "# Cloud Recommendation for LBG - Scottish Widows\n",
    "\n",
    "## Summary\n",
    "\n",
    "Scottish Widows currently uses an in house Triage Tool to provide information of pensions to customers. Customers contact Scottish Widows, based on their request, colleagues use the Triage Tool to query a database of pension data, data is processed, and a pension statement is generated. The Triage Tool is downloaded to a host computer for colleagues to use. Users of the tool must ensure that the latest version of the tool is used or issues can occur. \n",
    "\n",
    "Migrating this tool to Google Cloud Platform (GCP) would help streamline the process of development through CI, provide an opportunity to convert the tool to a web app with modern design principles, and give colleagues one version to use so they are always up to date.\n",
    "\n",
    "## Cloud Recommendations\n",
    "\n",
    "- Cloud Service Model - Platform as a service would best fit as Scottish Widows needs full control of the application and data. This would provide a great opportunity to upgrade the existing tool when porting to GCP. This would entail converting the existing tool, which has been created in Excel, to a web based application created in react. Scottish Widows can also add new functionality and adapt the code to meet changes in pension guidelines. \n",
    "\n",
    "- Cloud Deployment Model Type - Private due to the sensitivity of customer information and to follow GPDR guidelines.\n",
    "\n",
    "- Cloud Patterns - \n",
    "\n",
    "- Cloud Services - application and database hosted in cloud (GCP) \n",
    "\n",
    "- Cloud Costing - \n",
    "\n",
    "## Data Analysis "
   ]
  },
  {
   "cell_type": "markdown",
   "id": "4a7a5a9a",
   "metadata": {},
   "source": [
    "Triage Tool - ICP internal cloud\n",
    "\n",
    "About -\n",
    "Tool used but customer service team to aid conversion with customers. \n",
    "Tool provides teams a workflow to structure calls around and help inform decision making. \n",
    "Built in Visual Basic and Excel, physically hosted by Lloyds in ICP.\n",
    "\n",
    "Issues -\n",
    "This tool is only used during office hours by employees, but servers stay active 24/7.\n",
    "Expensive to maintain physical servers within company.\n",
    "Tool is old, not easy to update and maintain.\n",
    "\n",
    "Solution Recommendation -\n",
    "Move to GCP.\n",
    "Cloud does not need to be active after 7pm when employees are not working - saving money.\n",
    "Physical maintenance of servers not companies' responsibility.\n",
    "Opportunity to build web-based tool with modern design principals.\n",
    "Streamline the process of implementing new features with CL/CI.\n",
    "Scalable with expanding team and customer base.\n",
    "\n",
    "Data analysis -\n",
    "Running costs of physical server\n",
    "Maintenance of physical server\n",
    "Maintenance of tool\n",
    "Speed accessing data in old tool vs new tool"
   ]
  },
  {
   "cell_type": "code",
   "execution_count": null,
   "id": "396fd883",
   "metadata": {},
   "outputs": [],
   "source": []
  }
 ],
 "metadata": {
  "kernelspec": {
   "display_name": "Python 3 (ipykernel)",
   "language": "python",
   "name": "python3"
  },
  "language_info": {
   "codemirror_mode": {
    "name": "ipython",
    "version": 3
   },
   "file_extension": ".py",
   "mimetype": "text/x-python",
   "name": "python",
   "nbconvert_exporter": "python",
   "pygments_lexer": "ipython3",
   "version": "3.9.7"
  }
 },
 "nbformat": 4,
 "nbformat_minor": 5
}
